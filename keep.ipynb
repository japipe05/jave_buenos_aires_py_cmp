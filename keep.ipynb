{
 "cells": [
  {
   "cell_type": "markdown",
   "metadata": {},
   "source": [
    "# Notas\n",
    "\n",
    "Instalar:\n",
    "\n",
    "pip install keplergl\n",
    "pip install -q ipyleaflet\n",
    " \n",
    "Este archivo genera el html <br>\n",
    "Luego para ejecutar la app y cargar el html\n",
    "\n",
    "pip install dash dash-html-components dash-core-components\n",
    "\n",
    "python3 app.py\n"
   ]
  },
  {
   "cell_type": "code",
   "execution_count": 1,
   "metadata": {},
   "outputs": [],
   "source": [
    "from keplergl import KeplerGl\n",
    "import pandas as pd\n",
    "import geopandas as gpd"
   ]
  },
  {
   "cell_type": "code",
   "execution_count": 2,
   "metadata": {},
   "outputs": [
    {
     "data": {
      "text/html": [
       "<div>\n",
       "<style scoped>\n",
       "    .dataframe tbody tr th:only-of-type {\n",
       "        vertical-align: middle;\n",
       "    }\n",
       "\n",
       "    .dataframe tbody tr th {\n",
       "        vertical-align: top;\n",
       "    }\n",
       "\n",
       "    .dataframe thead th {\n",
       "        text-align: right;\n",
       "    }\n",
       "</style>\n",
       "<table border=\"1\" class=\"dataframe\">\n",
       "  <thead>\n",
       "    <tr style=\"text-align: right;\">\n",
       "      <th></th>\n",
       "      <th>CDpto</th>\n",
       "      <th>Dep</th>\n",
       "      <th>CProv</th>\n",
       "      <th>Prov</th>\n",
       "      <th>CDist</th>\n",
       "      <th>Dist</th>\n",
       "      <th>Codigo</th>\n",
       "      <th>Fenomeno</th>\n",
       "      <th>Afectado</th>\n",
       "      <th>Fecha</th>\n",
       "      <th>lon</th>\n",
       "      <th>lat</th>\n",
       "    </tr>\n",
       "  </thead>\n",
       "  <tbody>\n",
       "    <tr>\n",
       "      <th>0</th>\n",
       "      <td>3.0</td>\n",
       "      <td>APURIMAC</td>\n",
       "      <td>301.0</td>\n",
       "      <td>ABANCAY</td>\n",
       "      <td>30101.0</td>\n",
       "      <td>ABANCAY</td>\n",
       "      <td>59933.0</td>\n",
       "      <td>PRECIPITACIONES - NEVADA</td>\n",
       "      <td>250.0</td>\n",
       "      <td>28/08/2013</td>\n",
       "      <td>-72.8793</td>\n",
       "      <td>-13.6368</td>\n",
       "    </tr>\n",
       "    <tr>\n",
       "      <th>1</th>\n",
       "      <td>3.0</td>\n",
       "      <td>APURIMAC</td>\n",
       "      <td>301.0</td>\n",
       "      <td>ABANCAY</td>\n",
       "      <td>30102.0</td>\n",
       "      <td>CHACOCHE</td>\n",
       "      <td>59992.0</td>\n",
       "      <td>PRECIPITACIONES - NEVADA</td>\n",
       "      <td>0.0</td>\n",
       "      <td>28/08/2013</td>\n",
       "      <td>-72.9930</td>\n",
       "      <td>-13.9422</td>\n",
       "    </tr>\n",
       "    <tr>\n",
       "      <th>2</th>\n",
       "      <td>3.0</td>\n",
       "      <td>APURIMAC</td>\n",
       "      <td>301.0</td>\n",
       "      <td>ABANCAY</td>\n",
       "      <td>30102.0</td>\n",
       "      <td>CHACOCHE</td>\n",
       "      <td>71863.0</td>\n",
       "      <td>PRECIPITACIONES - NEVADA</td>\n",
       "      <td>840.0</td>\n",
       "      <td>14/07/2015</td>\n",
       "      <td>-72.9930</td>\n",
       "      <td>-13.9422</td>\n",
       "    </tr>\n",
       "    <tr>\n",
       "      <th>3</th>\n",
       "      <td>3.0</td>\n",
       "      <td>APURIMAC</td>\n",
       "      <td>301.0</td>\n",
       "      <td>ABANCAY</td>\n",
       "      <td>30103.0</td>\n",
       "      <td>CIRCA</td>\n",
       "      <td>59978.0</td>\n",
       "      <td>PRECIPITACIONES - NEVADA</td>\n",
       "      <td>900.0</td>\n",
       "      <td>28/08/2013</td>\n",
       "      <td>-72.8788</td>\n",
       "      <td>-13.8790</td>\n",
       "    </tr>\n",
       "    <tr>\n",
       "      <th>4</th>\n",
       "      <td>3.0</td>\n",
       "      <td>APURIMAC</td>\n",
       "      <td>301.0</td>\n",
       "      <td>ABANCAY</td>\n",
       "      <td>30103.0</td>\n",
       "      <td>CIRCA</td>\n",
       "      <td>71935.0</td>\n",
       "      <td>PRECIPITACIONES - NEVADA</td>\n",
       "      <td>482.0</td>\n",
       "      <td>8/7/2015</td>\n",
       "      <td>-72.8788</td>\n",
       "      <td>-13.8790</td>\n",
       "    </tr>\n",
       "  </tbody>\n",
       "</table>\n",
       "</div>"
      ],
      "text/plain": [
       "   CDpto       Dep  CProv     Prov    CDist      Dist   Codigo  \\\n",
       "0    3.0  APURIMAC  301.0  ABANCAY  30101.0   ABANCAY  59933.0   \n",
       "1    3.0  APURIMAC  301.0  ABANCAY  30102.0  CHACOCHE  59992.0   \n",
       "2    3.0  APURIMAC  301.0  ABANCAY  30102.0  CHACOCHE  71863.0   \n",
       "3    3.0  APURIMAC  301.0  ABANCAY  30103.0     CIRCA  59978.0   \n",
       "4    3.0  APURIMAC  301.0  ABANCAY  30103.0     CIRCA  71935.0   \n",
       "\n",
       "                   Fenomeno  Afectado       Fecha      lon      lat  \n",
       "0  PRECIPITACIONES - NEVADA     250.0  28/08/2013 -72.8793 -13.6368  \n",
       "1  PRECIPITACIONES - NEVADA       0.0  28/08/2013 -72.9930 -13.9422  \n",
       "2  PRECIPITACIONES - NEVADA     840.0  14/07/2015 -72.9930 -13.9422  \n",
       "3  PRECIPITACIONES - NEVADA     900.0  28/08/2013 -72.8788 -13.8790  \n",
       "4  PRECIPITACIONES - NEVADA     482.0    8/7/2015 -72.8788 -13.8790  "
      ]
     },
     "execution_count": 2,
     "metadata": {},
     "output_type": "execute_result"
    }
   ],
   "source": [
    "url = 'https://raw.githubusercontent.com/ambarja/snowfalldb-peru/main/csv/snowfallDB-Peru.csv'\n",
    "nevada_data = pd.read_csv(url)\n",
    "nevada_data = nevada_data[~nevada_data['Dep'].isin(['PIURA', 'LAMBAYEQUE','LIMA'])]\n",
    "nevada_data.head()"
   ]
  },
  {
   "cell_type": "code",
   "execution_count": 3,
   "metadata": {},
   "outputs": [
    {
     "name": "stdout",
     "output_type": "stream",
     "text": [
      "User Guide: https://docs.kepler.gl/docs/keplergl-jupyter\n"
     ]
    },
    {
     "name": "stderr",
     "output_type": "stream",
     "text": [
      "/home/oecorrechag/.local/lib/python3.10/site-packages/jupyter_client/session.py:721: UserWarning: Message serialization failed with:\n",
      "Out of range float values are not JSON compliant\n",
      "Supporting this message is deprecated in jupyter-client 7, please make sure your message is JSON-compliant\n",
      "  content = self.pack(content)\n"
     ]
    },
    {
     "data": {
      "application/vnd.jupyter.widget-view+json": {
       "model_id": "22e181177530419d95ad272203c8b0d2",
       "version_major": 2,
       "version_minor": 0
      },
      "text/plain": [
       "KeplerGl(data={'nevada':       CDpto       Dep   CProv     Prov     CDist      Dist   Codigo  \\\n",
       "0       3.0  A…"
      ]
     },
     "metadata": {},
     "output_type": "display_data"
    }
   ],
   "source": [
    "mapa_csv = KeplerGl(height=500, data={'nevada': nevada_data})\n",
    "mapa_csv"
   ]
  },
  {
   "cell_type": "code",
   "execution_count": 4,
   "metadata": {},
   "outputs": [
    {
     "data": {
      "text/html": [
       "<div>\n",
       "<style scoped>\n",
       "    .dataframe tbody tr th:only-of-type {\n",
       "        vertical-align: middle;\n",
       "    }\n",
       "\n",
       "    .dataframe tbody tr th {\n",
       "        vertical-align: top;\n",
       "    }\n",
       "\n",
       "    .dataframe thead th {\n",
       "        text-align: right;\n",
       "    }\n",
       "</style>\n",
       "<table border=\"1\" class=\"dataframe\">\n",
       "  <thead>\n",
       "    <tr style=\"text-align: right;\">\n",
       "      <th></th>\n",
       "      <th>IDDIST</th>\n",
       "      <th>NOMBDIST</th>\n",
       "      <th>NOMBPROV</th>\n",
       "      <th>NOMBDEP</th>\n",
       "      <th>DCTO</th>\n",
       "      <th>LEY</th>\n",
       "      <th>FECHA</th>\n",
       "      <th>NOM_CAP</th>\n",
       "      <th>AREA_KM²</th>\n",
       "      <th>FEC_ACT</th>\n",
       "      <th>FUENTE</th>\n",
       "      <th>geometry</th>\n",
       "    </tr>\n",
       "  </thead>\n",
       "  <tbody>\n",
       "    <tr>\n",
       "      <th>0</th>\n",
       "      <td>120132</td>\n",
       "      <td>SAÑO</td>\n",
       "      <td>HUANCAYO</td>\n",
       "      <td>JUNIN</td>\n",
       "      <td>LEY</td>\n",
       "      <td>12129</td>\n",
       "      <td>15/10/1954</td>\n",
       "      <td>SAÑO</td>\n",
       "      <td>12.984561</td>\n",
       "      <td>2018-01-01</td>\n",
       "      <td>INEI</td>\n",
       "      <td>MULTIPOLYGON (((-75.21192 -11.93655, -75.21263...</td>\n",
       "    </tr>\n",
       "    <tr>\n",
       "      <th>1</th>\n",
       "      <td>120111</td>\n",
       "      <td>CHUPURO</td>\n",
       "      <td>HUANCAYO</td>\n",
       "      <td>JUNIN</td>\n",
       "      <td>LEY</td>\n",
       "      <td>13444</td>\n",
       "      <td>14/10/1960</td>\n",
       "      <td>CHUPURO</td>\n",
       "      <td>40.330151</td>\n",
       "      <td>2018-01-01</td>\n",
       "      <td>INEI</td>\n",
       "      <td>MULTIPOLYGON (((-75.24426 -12.15409, -75.24422...</td>\n",
       "    </tr>\n",
       "    <tr>\n",
       "      <th>2</th>\n",
       "      <td>120136</td>\n",
       "      <td>VIQUES</td>\n",
       "      <td>HUANCAYO</td>\n",
       "      <td>JUNIN</td>\n",
       "      <td>LEY</td>\n",
       "      <td>9475</td>\n",
       "      <td>24/12/1941</td>\n",
       "      <td>VIQUES</td>\n",
       "      <td>6.098330</td>\n",
       "      <td>2018-01-01</td>\n",
       "      <td>INEI</td>\n",
       "      <td>MULTIPOLYGON (((-75.20884 -12.15655, -75.21034...</td>\n",
       "    </tr>\n",
       "    <tr>\n",
       "      <th>3</th>\n",
       "      <td>120121</td>\n",
       "      <td>HUAYUCACHI</td>\n",
       "      <td>HUANCAYO</td>\n",
       "      <td>JUNIN</td>\n",
       "      <td>LEY</td>\n",
       "      <td>S/N</td>\n",
       "      <td>10/11/1896</td>\n",
       "      <td>HUAYUCACHI</td>\n",
       "      <td>14.040240</td>\n",
       "      <td>2018-01-01</td>\n",
       "      <td>INEI</td>\n",
       "      <td>MULTIPOLYGON (((-75.19735 -12.12583, -75.19852...</td>\n",
       "    </tr>\n",
       "    <tr>\n",
       "      <th>4</th>\n",
       "      <td>120128</td>\n",
       "      <td>QUILCAS</td>\n",
       "      <td>HUANCAYO</td>\n",
       "      <td>JUNIN</td>\n",
       "      <td>LEY</td>\n",
       "      <td>11846</td>\n",
       "      <td>27/05/1952</td>\n",
       "      <td>QUILCAS</td>\n",
       "      <td>159.533321</td>\n",
       "      <td>2018-01-01</td>\n",
       "      <td>INEI</td>\n",
       "      <td>MULTIPOLYGON (((-75.07349 -11.87256, -75.07393...</td>\n",
       "    </tr>\n",
       "  </tbody>\n",
       "</table>\n",
       "</div>"
      ],
      "text/plain": [
       "   IDDIST    NOMBDIST  NOMBPROV NOMBDEP DCTO    LEY       FECHA     NOM_CAP  \\\n",
       "0  120132        SAÑO  HUANCAYO   JUNIN  LEY  12129  15/10/1954        SAÑO   \n",
       "1  120111     CHUPURO  HUANCAYO   JUNIN  LEY  13444  14/10/1960     CHUPURO   \n",
       "2  120136      VIQUES  HUANCAYO   JUNIN  LEY   9475  24/12/1941      VIQUES   \n",
       "3  120121  HUAYUCACHI  HUANCAYO   JUNIN  LEY    S/N  10/11/1896  HUAYUCACHI   \n",
       "4  120128     QUILCAS  HUANCAYO   JUNIN  LEY  11846  27/05/1952     QUILCAS   \n",
       "\n",
       "     AREA_KM²     FEC_ACT FUENTE  \\\n",
       "0   12.984561  2018-01-01   INEI   \n",
       "1   40.330151  2018-01-01   INEI   \n",
       "2    6.098330  2018-01-01   INEI   \n",
       "3   14.040240  2018-01-01   INEI   \n",
       "4  159.533321  2018-01-01   INEI   \n",
       "\n",
       "                                            geometry  \n",
       "0  MULTIPOLYGON (((-75.21192 -11.93655, -75.21263...  \n",
       "1  MULTIPOLYGON (((-75.24426 -12.15409, -75.24422...  \n",
       "2  MULTIPOLYGON (((-75.20884 -12.15655, -75.21034...  \n",
       "3  MULTIPOLYGON (((-75.19735 -12.12583, -75.19852...  \n",
       "4  MULTIPOLYGON (((-75.07349 -11.87256, -75.07393...  "
      ]
     },
     "execution_count": 4,
     "metadata": {},
     "output_type": "execute_result"
    }
   ],
   "source": [
    "url_gpkg = 'https://github.com/ambarja/gpkg-pe/raw/main/prov_huancayo.gpkg'\n",
    "gpkg = gpd.read_file(url_gpkg)\n",
    "gpkg.head()"
   ]
  },
  {
   "cell_type": "code",
   "execution_count": 5,
   "metadata": {},
   "outputs": [
    {
     "name": "stdout",
     "output_type": "stream",
     "text": [
      "User Guide: https://docs.kepler.gl/docs/keplergl-jupyter\n"
     ]
    },
    {
     "data": {
      "application/vnd.jupyter.widget-view+json": {
       "model_id": "7efef3c354bb4445a620b14dbb22e02f",
       "version_major": 2,
       "version_minor": 0
      },
      "text/plain": [
       "KeplerGl(data={'provincia-hcyo':     IDDIST                   NOMBDIST  NOMBPROV NOMBDEP  DCTO    LEY  \\\n",
       "0   1…"
      ]
     },
     "metadata": {},
     "output_type": "display_data"
    }
   ],
   "source": [
    "mapa_gpkg = KeplerGl(height=500, data={\"provincia-hcyo\": gpkg})\n",
    "mapa_gpkg"
   ]
  },
  {
   "cell_type": "code",
   "execution_count": 6,
   "metadata": {},
   "outputs": [
    {
     "data": {
      "text/html": [
       "<div>\n",
       "<style scoped>\n",
       "    .dataframe tbody tr th:only-of-type {\n",
       "        vertical-align: middle;\n",
       "    }\n",
       "\n",
       "    .dataframe tbody tr th {\n",
       "        vertical-align: top;\n",
       "    }\n",
       "\n",
       "    .dataframe thead th {\n",
       "        text-align: right;\n",
       "    }\n",
       "</style>\n",
       "<table border=\"1\" class=\"dataframe\">\n",
       "  <thead>\n",
       "    <tr style=\"text-align: right;\">\n",
       "      <th></th>\n",
       "      <th>code</th>\n",
       "      <th>depto</th>\n",
       "      <th>provincia</th>\n",
       "      <th>barrios</th>\n",
       "      <th>geometry</th>\n",
       "    </tr>\n",
       "  </thead>\n",
       "  <tbody>\n",
       "    <tr>\n",
       "      <th>0</th>\n",
       "      <td>1</td>\n",
       "      <td>Ciudad Autonoma de Buenos Aires</td>\n",
       "      <td>Ciudad Autonoma de Buenos Aires</td>\n",
       "      <td>Agronomia</td>\n",
       "      <td>POLYGON ((-58.47597 -34.59192, -58.47712 -34.5...</td>\n",
       "    </tr>\n",
       "    <tr>\n",
       "      <th>1</th>\n",
       "      <td>2</td>\n",
       "      <td>Ciudad Autonoma de Buenos Aires</td>\n",
       "      <td>Ciudad Autonoma de Buenos Aires</td>\n",
       "      <td>Almagro</td>\n",
       "      <td>POLYGON ((-58.43334 -34.60268, -58.43224 -34.6...</td>\n",
       "    </tr>\n",
       "    <tr>\n",
       "      <th>2</th>\n",
       "      <td>3</td>\n",
       "      <td>Ciudad Autonoma de Buenos Aires</td>\n",
       "      <td>Ciudad Autonoma de Buenos Aires</td>\n",
       "      <td>Balvanera</td>\n",
       "      <td>POLYGON ((-58.39293 -34.59964, -58.39239 -34.6...</td>\n",
       "    </tr>\n",
       "    <tr>\n",
       "      <th>3</th>\n",
       "      <td>4</td>\n",
       "      <td>Ciudad Autonoma de Buenos Aires</td>\n",
       "      <td>Ciudad Autonoma de Buenos Aires</td>\n",
       "      <td>Barracas</td>\n",
       "      <td>MULTIPOLYGON (((-58.39589 -34.66185, -58.39591...</td>\n",
       "    </tr>\n",
       "    <tr>\n",
       "      <th>4</th>\n",
       "      <td>5</td>\n",
       "      <td>Ciudad Autonoma de Buenos Aires</td>\n",
       "      <td>Ciudad Autonoma de Buenos Aires</td>\n",
       "      <td>Belgrano</td>\n",
       "      <td>POLYGON ((-58.43771 -34.56251, -58.43843 -34.5...</td>\n",
       "    </tr>\n",
       "  </tbody>\n",
       "</table>\n",
       "</div>"
      ],
      "text/plain": [
       "  code                            depto                        provincia  \\\n",
       "0    1  Ciudad Autonoma de Buenos Aires  Ciudad Autonoma de Buenos Aires   \n",
       "1    2  Ciudad Autonoma de Buenos Aires  Ciudad Autonoma de Buenos Aires   \n",
       "2    3  Ciudad Autonoma de Buenos Aires  Ciudad Autonoma de Buenos Aires   \n",
       "3    4  Ciudad Autonoma de Buenos Aires  Ciudad Autonoma de Buenos Aires   \n",
       "4    5  Ciudad Autonoma de Buenos Aires  Ciudad Autonoma de Buenos Aires   \n",
       "\n",
       "     barrios                                           geometry  \n",
       "0  Agronomia  POLYGON ((-58.47597 -34.59192, -58.47712 -34.5...  \n",
       "1    Almagro  POLYGON ((-58.43334 -34.60268, -58.43224 -34.6...  \n",
       "2  Balvanera  POLYGON ((-58.39293 -34.59964, -58.39239 -34.6...  \n",
       "3   Barracas  MULTIPOLYGON (((-58.39589 -34.66185, -58.39591...  \n",
       "4   Belgrano  POLYGON ((-58.43771 -34.56251, -58.43843 -34.5...  "
      ]
     },
     "execution_count": 6,
     "metadata": {},
     "output_type": "execute_result"
    }
   ],
   "source": [
    "df_ba = gpd.read_file(\"data/df_ba.geojson\")\n",
    "df_ba.head()"
   ]
  },
  {
   "cell_type": "code",
   "execution_count": 7,
   "metadata": {},
   "outputs": [
    {
     "name": "stdout",
     "output_type": "stream",
     "text": [
      "User Guide: https://docs.kepler.gl/docs/keplergl-jupyter\n"
     ]
    },
    {
     "data": {
      "application/vnd.jupyter.widget-view+json": {
       "model_id": "561916265f1746f980ac6a03912f00a3",
       "version_major": 2,
       "version_minor": 0
      },
      "text/plain": [
       "KeplerGl(data={'df_ba':      code                            depto                        provincia  \\\n",
       "0      …"
      ]
     },
     "metadata": {},
     "output_type": "display_data"
    }
   ],
   "source": [
    "mapa_buenos_aires = KeplerGl(height=500, data={\"df_ba\": df_ba})\n",
    "mapa_buenos_aires"
   ]
  },
  {
   "cell_type": "code",
   "execution_count": 8,
   "metadata": {},
   "outputs": [],
   "source": [
    "config_mapa_csv = mapa_csv.config\n",
    "config_mapa_gpkg = mapa_gpkg.config\n",
    "config_mapa_buenos_aires = mapa_buenos_aires.config"
   ]
  },
  {
   "cell_type": "code",
   "execution_count": 9,
   "metadata": {},
   "outputs": [
    {
     "name": "stdout",
     "output_type": "stream",
     "text": [
      "Map saved to outputs/mapa_csv.html!\n",
      "Map saved to outputs/mapa_gpkg.html!\n",
      "Map saved to outputs/mapa_buenos_aires.html!\n"
     ]
    }
   ],
   "source": [
    "mapa_csv.save_to_html(data={'nevada': nevada_data}, config=config_mapa_csv, file_name='outputs/mapa_csv.html')\n",
    "mapa_gpkg.save_to_html(data={'provincia-hcyo': gpkg}, config=config_mapa_gpkg, file_name='outputs/mapa_gpkg.html')\n",
    "mapa_buenos_aires.save_to_html(data={'df_ba': df_ba}, config=config_mapa_buenos_aires, file_name='outputs/mapa_buenos_aires.html')"
   ]
  }
 ],
 "metadata": {
  "kernelspec": {
   "display_name": "Python 3",
   "language": "python",
   "name": "python3"
  },
  "language_info": {
   "codemirror_mode": {
    "name": "ipython",
    "version": 3
   },
   "file_extension": ".py",
   "mimetype": "text/x-python",
   "name": "python",
   "nbconvert_exporter": "python",
   "pygments_lexer": "ipython3",
   "version": "3.10.12"
  }
 },
 "nbformat": 4,
 "nbformat_minor": 2
}
