{
 "cells": [
  {
   "cell_type": "markdown",
   "metadata": {},
   "source": [
    "# Notas\n",
    "\n",
    "Instalar:\n",
    "\n",
    "pip install keplergl\n",
    "pip install -q ipyleaflet\n",
    " \n",
    "Este archivo genera el html <br>\n",
    "Luego para ejecutar la app y cargar el html\n",
    "\n",
    "pip install dash dash-html-components dash-core-components\n",
    "\n",
    "python3 app.py\n"
   ]
  },
  {
   "cell_type": "code",
   "execution_count": 9,
   "metadata": {},
   "outputs": [],
   "source": [
    "from keplergl import KeplerGl\n",
    "import pandas as pd\n",
    "import geopandas as gpd"
   ]
  },
  {
   "cell_type": "code",
   "execution_count": 19,
   "metadata": {},
   "outputs": [
    {
     "ename": "ImportError",
     "evalue": "cannot import name 'obtener_limit2' from 'routes.poligonos_buenos_aires' (d:\\Workspace_git\\Javeriana\\Maestria\\Top Avan Bases datos\\jave_buenos_aires_py_cmp\\src\\routes\\poligonos_buenos_aires.py)",
     "output_type": "error",
     "traceback": [
      "\u001b[1;31m---------------------------------------------------------------------------\u001b[0m",
      "\u001b[1;31mImportError\u001b[0m                               Traceback (most recent call last)",
      "Cell \u001b[1;32mIn[19], line 2\u001b[0m\n\u001b[0;32m      1\u001b[0m \u001b[38;5;66;03m# Importa la función que obtiene los datos desde la ruta adecuada\u001b[39;00m\n\u001b[1;32m----> 2\u001b[0m \u001b[38;5;28;01mfrom\u001b[39;00m \u001b[38;5;21;01mroutes\u001b[39;00m\u001b[38;5;21;01m.\u001b[39;00m\u001b[38;5;21;01mpoligonos_buenos_aires\u001b[39;00m \u001b[38;5;28;01mimport\u001b[39;00m obtener_limit2\n\u001b[0;32m      4\u001b[0m \u001b[38;5;66;03m# Llama a la función para obtener los datos\u001b[39;00m\n\u001b[0;32m      5\u001b[0m datos \u001b[38;5;241m=\u001b[39m obtener_limit2()\n",
      "\u001b[1;31mImportError\u001b[0m: cannot import name 'obtener_limit2' from 'routes.poligonos_buenos_aires' (d:\\Workspace_git\\Javeriana\\Maestria\\Top Avan Bases datos\\jave_buenos_aires_py_cmp\\src\\routes\\poligonos_buenos_aires.py)"
     ]
    }
   ],
   "source": [
    "# Importa la función que obtiene los datos desde la ruta adecuada\n",
    "from routes.poligonos_buenos_aires import obtener_limit2\n",
    "\n",
    "# Llama a la función para obtener los datos\n",
    "datos = obtener_limit2()\n",
    "\n",
    "# Ahora puedes trabajar con los datos como desees\n",
    "print(datos[:5])  # Muestra los primeros 5 registros como ejemplo\n"
   ]
  },
  {
   "cell_type": "code",
   "execution_count": 2,
   "metadata": {},
   "outputs": [
    {
     "data": {
      "text/html": [
       "<div>\n",
       "<style scoped>\n",
       "    .dataframe tbody tr th:only-of-type {\n",
       "        vertical-align: middle;\n",
       "    }\n",
       "\n",
       "    .dataframe tbody tr th {\n",
       "        vertical-align: top;\n",
       "    }\n",
       "\n",
       "    .dataframe thead th {\n",
       "        text-align: right;\n",
       "    }\n",
       "</style>\n",
       "<table border=\"1\" class=\"dataframe\">\n",
       "  <thead>\n",
       "    <tr style=\"text-align: right;\">\n",
       "      <th></th>\n",
       "      <th>CDpto</th>\n",
       "      <th>Dep</th>\n",
       "      <th>CProv</th>\n",
       "      <th>Prov</th>\n",
       "      <th>CDist</th>\n",
       "      <th>Dist</th>\n",
       "      <th>Codigo</th>\n",
       "      <th>Fenomeno</th>\n",
       "      <th>Afectado</th>\n",
       "      <th>Fecha</th>\n",
       "      <th>lon</th>\n",
       "      <th>lat</th>\n",
       "    </tr>\n",
       "  </thead>\n",
       "  <tbody>\n",
       "    <tr>\n",
       "      <th>0</th>\n",
       "      <td>3.0</td>\n",
       "      <td>APURIMAC</td>\n",
       "      <td>301.0</td>\n",
       "      <td>ABANCAY</td>\n",
       "      <td>30101.0</td>\n",
       "      <td>ABANCAY</td>\n",
       "      <td>59933.0</td>\n",
       "      <td>PRECIPITACIONES - NEVADA</td>\n",
       "      <td>250.0</td>\n",
       "      <td>28/08/2013</td>\n",
       "      <td>-72.8793</td>\n",
       "      <td>-13.6368</td>\n",
       "    </tr>\n",
       "    <tr>\n",
       "      <th>1</th>\n",
       "      <td>3.0</td>\n",
       "      <td>APURIMAC</td>\n",
       "      <td>301.0</td>\n",
       "      <td>ABANCAY</td>\n",
       "      <td>30102.0</td>\n",
       "      <td>CHACOCHE</td>\n",
       "      <td>59992.0</td>\n",
       "      <td>PRECIPITACIONES - NEVADA</td>\n",
       "      <td>0.0</td>\n",
       "      <td>28/08/2013</td>\n",
       "      <td>-72.9930</td>\n",
       "      <td>-13.9422</td>\n",
       "    </tr>\n",
       "    <tr>\n",
       "      <th>2</th>\n",
       "      <td>3.0</td>\n",
       "      <td>APURIMAC</td>\n",
       "      <td>301.0</td>\n",
       "      <td>ABANCAY</td>\n",
       "      <td>30102.0</td>\n",
       "      <td>CHACOCHE</td>\n",
       "      <td>71863.0</td>\n",
       "      <td>PRECIPITACIONES - NEVADA</td>\n",
       "      <td>840.0</td>\n",
       "      <td>14/07/2015</td>\n",
       "      <td>-72.9930</td>\n",
       "      <td>-13.9422</td>\n",
       "    </tr>\n",
       "    <tr>\n",
       "      <th>3</th>\n",
       "      <td>3.0</td>\n",
       "      <td>APURIMAC</td>\n",
       "      <td>301.0</td>\n",
       "      <td>ABANCAY</td>\n",
       "      <td>30103.0</td>\n",
       "      <td>CIRCA</td>\n",
       "      <td>59978.0</td>\n",
       "      <td>PRECIPITACIONES - NEVADA</td>\n",
       "      <td>900.0</td>\n",
       "      <td>28/08/2013</td>\n",
       "      <td>-72.8788</td>\n",
       "      <td>-13.8790</td>\n",
       "    </tr>\n",
       "    <tr>\n",
       "      <th>4</th>\n",
       "      <td>3.0</td>\n",
       "      <td>APURIMAC</td>\n",
       "      <td>301.0</td>\n",
       "      <td>ABANCAY</td>\n",
       "      <td>30103.0</td>\n",
       "      <td>CIRCA</td>\n",
       "      <td>71935.0</td>\n",
       "      <td>PRECIPITACIONES - NEVADA</td>\n",
       "      <td>482.0</td>\n",
       "      <td>8/7/2015</td>\n",
       "      <td>-72.8788</td>\n",
       "      <td>-13.8790</td>\n",
       "    </tr>\n",
       "  </tbody>\n",
       "</table>\n",
       "</div>"
      ],
      "text/plain": [
       "   CDpto       Dep  CProv     Prov    CDist      Dist   Codigo  \\\n",
       "0    3.0  APURIMAC  301.0  ABANCAY  30101.0   ABANCAY  59933.0   \n",
       "1    3.0  APURIMAC  301.0  ABANCAY  30102.0  CHACOCHE  59992.0   \n",
       "2    3.0  APURIMAC  301.0  ABANCAY  30102.0  CHACOCHE  71863.0   \n",
       "3    3.0  APURIMAC  301.0  ABANCAY  30103.0     CIRCA  59978.0   \n",
       "4    3.0  APURIMAC  301.0  ABANCAY  30103.0     CIRCA  71935.0   \n",
       "\n",
       "                   Fenomeno  Afectado       Fecha      lon      lat  \n",
       "0  PRECIPITACIONES - NEVADA     250.0  28/08/2013 -72.8793 -13.6368  \n",
       "1  PRECIPITACIONES - NEVADA       0.0  28/08/2013 -72.9930 -13.9422  \n",
       "2  PRECIPITACIONES - NEVADA     840.0  14/07/2015 -72.9930 -13.9422  \n",
       "3  PRECIPITACIONES - NEVADA     900.0  28/08/2013 -72.8788 -13.8790  \n",
       "4  PRECIPITACIONES - NEVADA     482.0    8/7/2015 -72.8788 -13.8790  "
      ]
     },
     "execution_count": 2,
     "metadata": {},
     "output_type": "execute_result"
    }
   ],
   "source": [
    "from routes.poligonos_buenos_aires import obtener_all\n",
    "obtener_all()\n",
    "\n",
    "url = 'https://raw.githubusercontent.com/ambarja/snowfalldb-peru/main/csv/snowfallDB-Peru.csv'\n",
    "nevada_data = pd.read_csv(url)\n",
    "nevada_data = nevada_data[~nevada_data['Dep'].isin(['PIURA', 'LAMBAYEQUE','LIMA'])]\n",
    "nevada_data.head()"
   ]
  },
  {
   "cell_type": "code",
   "execution_count": 3,
   "metadata": {},
   "outputs": [
    {
     "name": "stdout",
     "output_type": "stream",
     "text": [
      "User Guide: https://docs.kepler.gl/docs/keplergl-jupyter\n"
     ]
    },
    {
     "name": "stderr",
     "output_type": "stream",
     "text": [
      "/home/oecorrechag/.local/lib/python3.10/site-packages/jupyter_client/session.py:721: UserWarning: Message serialization failed with:\n",
      "Out of range float values are not JSON compliant\n",
      "Supporting this message is deprecated in jupyter-client 7, please make sure your message is JSON-compliant\n",
      "  content = self.pack(content)\n",
      "/home/oecorrechag/.local/lib/python3.10/site-packages/IPython/core/formatters.py:370: FormatterWarning: text/html formatter returned invalid type <class 'bytes'> (expected <class 'str'>) for object: KeplerGl(data={'nevada':       CDpto       Dep   CProv     Prov     CDist      Dist   Codigo  \\\n",
      "0       3.0  APURIMAC   301.0  ABANCAY   30101.0   ABANCAY  59933.0   \n",
      "1       3.0  APURIMAC   301.0  ABANCAY   30102.0  CHACOCHE  59992.0   \n",
      "2       3.0  APURIMAC   301.0  ABANCAY   30102.0  CHACOCHE  71863.0   \n",
      "3       3.0  APURIMAC   301.0  ABANCAY   30103.0     CIRCA  59978.0   \n",
      "4       3.0  APURIMAC   301.0  ABANCAY   30103.0     CIRCA  71935.0   \n",
      "...     ...       ...     ...      ...       ...       ...      ...   \n",
      "1225   23.0     TACNA  2304.0   TARATA  230401.0    TARATA  58888.0   \n",
      "1226   23.0     TACNA  2304.0   TARATA  230401.0    TARATA  94424.0   \n",
      "1227   23.0     TACNA  2304.0   TARATA  230406.0  SUSAPAYA  94425.0   \n",
      "1228   23.0     TACNA  2304.0   TARATA  230408.0    TICACO  94459.0   \n",
      "1229    NaN       NaN     NaN      NaN       NaN       NaN      NaN   \n",
      "\n",
      "                      Fenomeno  Afectado       Fecha      lon      lat  \n",
      "0     PRECIPITACIONES - NEVADA     250.0  28/08/2013 -72.8793 -13.6368  \n",
      "1     PRECIPITACIONES - NEVADA       0.0  28/08/2013 -72.9930 -13.9422  \n",
      "2     PRECIPITACIONES - NEVADA     840.0  14/07/2015 -72.9930 -13.9422  \n",
      "3     PRECIPITACIONES - NEVADA     900.0  28/08/2013 -72.8788 -13.8790  \n",
      "4     PRECIPITACIONES - NEVADA     482.0    8/7/2015 -72.8788 -13.8790  \n",
      "...                        ...       ...         ...      ...      ...  \n",
      "1225  PRECIPITACIONES - NEVADA       0.0  17/05/2013 -70.0327 -17.4750  \n",
      "1226  PRECIPITACIONES - NEVADA     675.0    7/6/2018 -70.0327 -17.4750  \n",
      "1227  PRECIPITACIONES - NEVADA     465.0    7/6/2018 -70.1336 -17.3540  \n",
      "1228  PRECIPITACIONES - NEVADA      53.0    3/6/2018 -69.9665 -17.3076  \n",
      "1229                       NaN       NaN         NaN      NaN      NaN  \n",
      "\n",
      "[1230 rows x 12 columns]}, height=500)\n",
      "  warnings.warn(\n"
     ]
    },
    {
     "data": {
      "application/vnd.jupyter.widget-view+json": {
       "model_id": "d59b69d8d88842cb96910881cd4e78ce",
       "version_major": 2,
       "version_minor": 0
      },
      "text/plain": [
       "KeplerGl(data={'nevada':       CDpto       Dep   CProv     Prov     CDist      Dist   Codigo  \\\n",
       "0       3.0  A…"
      ]
     },
     "execution_count": 3,
     "metadata": {},
     "output_type": "execute_result"
    }
   ],
   "source": [
    "mapa_csv = KeplerGl(height=500, data={'nevada': nevada_data})\n",
    "mapa_csv"
   ]
  },
  {
   "cell_type": "code",
   "execution_count": 4,
   "metadata": {},
   "outputs": [
    {
     "data": {
      "text/html": [
       "<div>\n",
       "<style scoped>\n",
       "    .dataframe tbody tr th:only-of-type {\n",
       "        vertical-align: middle;\n",
       "    }\n",
       "\n",
       "    .dataframe tbody tr th {\n",
       "        vertical-align: top;\n",
       "    }\n",
       "\n",
       "    .dataframe thead th {\n",
       "        text-align: right;\n",
       "    }\n",
       "</style>\n",
       "<table border=\"1\" class=\"dataframe\">\n",
       "  <thead>\n",
       "    <tr style=\"text-align: right;\">\n",
       "      <th></th>\n",
       "      <th>IDDIST</th>\n",
       "      <th>NOMBDIST</th>\n",
       "      <th>NOMBPROV</th>\n",
       "      <th>NOMBDEP</th>\n",
       "      <th>DCTO</th>\n",
       "      <th>LEY</th>\n",
       "      <th>FECHA</th>\n",
       "      <th>NOM_CAP</th>\n",
       "      <th>AREA_KM²</th>\n",
       "      <th>FEC_ACT</th>\n",
       "      <th>FUENTE</th>\n",
       "      <th>geometry</th>\n",
       "    </tr>\n",
       "  </thead>\n",
       "  <tbody>\n",
       "    <tr>\n",
       "      <th>0</th>\n",
       "      <td>120132</td>\n",
       "      <td>SAÑO</td>\n",
       "      <td>HUANCAYO</td>\n",
       "      <td>JUNIN</td>\n",
       "      <td>LEY</td>\n",
       "      <td>12129</td>\n",
       "      <td>15/10/1954</td>\n",
       "      <td>SAÑO</td>\n",
       "      <td>12.984561</td>\n",
       "      <td>2018-01-01</td>\n",
       "      <td>INEI</td>\n",
       "      <td>MULTIPOLYGON (((-75.21192 -11.93655, -75.21263...</td>\n",
       "    </tr>\n",
       "    <tr>\n",
       "      <th>1</th>\n",
       "      <td>120111</td>\n",
       "      <td>CHUPURO</td>\n",
       "      <td>HUANCAYO</td>\n",
       "      <td>JUNIN</td>\n",
       "      <td>LEY</td>\n",
       "      <td>13444</td>\n",
       "      <td>14/10/1960</td>\n",
       "      <td>CHUPURO</td>\n",
       "      <td>40.330151</td>\n",
       "      <td>2018-01-01</td>\n",
       "      <td>INEI</td>\n",
       "      <td>MULTIPOLYGON (((-75.24426 -12.15409, -75.24422...</td>\n",
       "    </tr>\n",
       "    <tr>\n",
       "      <th>2</th>\n",
       "      <td>120136</td>\n",
       "      <td>VIQUES</td>\n",
       "      <td>HUANCAYO</td>\n",
       "      <td>JUNIN</td>\n",
       "      <td>LEY</td>\n",
       "      <td>9475</td>\n",
       "      <td>24/12/1941</td>\n",
       "      <td>VIQUES</td>\n",
       "      <td>6.098330</td>\n",
       "      <td>2018-01-01</td>\n",
       "      <td>INEI</td>\n",
       "      <td>MULTIPOLYGON (((-75.20884 -12.15655, -75.21034...</td>\n",
       "    </tr>\n",
       "    <tr>\n",
       "      <th>3</th>\n",
       "      <td>120121</td>\n",
       "      <td>HUAYUCACHI</td>\n",
       "      <td>HUANCAYO</td>\n",
       "      <td>JUNIN</td>\n",
       "      <td>LEY</td>\n",
       "      <td>S/N</td>\n",
       "      <td>10/11/1896</td>\n",
       "      <td>HUAYUCACHI</td>\n",
       "      <td>14.040240</td>\n",
       "      <td>2018-01-01</td>\n",
       "      <td>INEI</td>\n",
       "      <td>MULTIPOLYGON (((-75.19735 -12.12583, -75.19852...</td>\n",
       "    </tr>\n",
       "    <tr>\n",
       "      <th>4</th>\n",
       "      <td>120128</td>\n",
       "      <td>QUILCAS</td>\n",
       "      <td>HUANCAYO</td>\n",
       "      <td>JUNIN</td>\n",
       "      <td>LEY</td>\n",
       "      <td>11846</td>\n",
       "      <td>27/05/1952</td>\n",
       "      <td>QUILCAS</td>\n",
       "      <td>159.533321</td>\n",
       "      <td>2018-01-01</td>\n",
       "      <td>INEI</td>\n",
       "      <td>MULTIPOLYGON (((-75.07349 -11.87256, -75.07393...</td>\n",
       "    </tr>\n",
       "  </tbody>\n",
       "</table>\n",
       "</div>"
      ],
      "text/plain": [
       "   IDDIST    NOMBDIST  NOMBPROV NOMBDEP DCTO    LEY       FECHA     NOM_CAP  \\\n",
       "0  120132        SAÑO  HUANCAYO   JUNIN  LEY  12129  15/10/1954        SAÑO   \n",
       "1  120111     CHUPURO  HUANCAYO   JUNIN  LEY  13444  14/10/1960     CHUPURO   \n",
       "2  120136      VIQUES  HUANCAYO   JUNIN  LEY   9475  24/12/1941      VIQUES   \n",
       "3  120121  HUAYUCACHI  HUANCAYO   JUNIN  LEY    S/N  10/11/1896  HUAYUCACHI   \n",
       "4  120128     QUILCAS  HUANCAYO   JUNIN  LEY  11846  27/05/1952     QUILCAS   \n",
       "\n",
       "     AREA_KM²     FEC_ACT FUENTE  \\\n",
       "0   12.984561  2018-01-01   INEI   \n",
       "1   40.330151  2018-01-01   INEI   \n",
       "2    6.098330  2018-01-01   INEI   \n",
       "3   14.040240  2018-01-01   INEI   \n",
       "4  159.533321  2018-01-01   INEI   \n",
       "\n",
       "                                            geometry  \n",
       "0  MULTIPOLYGON (((-75.21192 -11.93655, -75.21263...  \n",
       "1  MULTIPOLYGON (((-75.24426 -12.15409, -75.24422...  \n",
       "2  MULTIPOLYGON (((-75.20884 -12.15655, -75.21034...  \n",
       "3  MULTIPOLYGON (((-75.19735 -12.12583, -75.19852...  \n",
       "4  MULTIPOLYGON (((-75.07349 -11.87256, -75.07393...  "
      ]
     },
     "execution_count": 4,
     "metadata": {},
     "output_type": "execute_result"
    }
   ],
   "source": [
    "url_gpkg = 'https://github.com/ambarja/gpkg-pe/raw/main/prov_huancayo.gpkg'\n",
    "gpkg = gpd.read_file(url_gpkg)\n",
    "gpkg.head()"
   ]
  },
  {
   "cell_type": "code",
   "execution_count": 5,
   "metadata": {},
   "outputs": [
    {
     "name": "stdout",
     "output_type": "stream",
     "text": [
      "User Guide: https://docs.kepler.gl/docs/keplergl-jupyter\n"
     ]
    },
    {
     "name": "stderr",
     "output_type": "stream",
     "text": [
      "/home/oecorrechag/.local/lib/python3.10/site-packages/IPython/core/formatters.py:370: FormatterWarning: text/html formatter returned invalid type <class 'bytes'> (expected <class 'str'>) for object: KeplerGl(data={'provincia-hcyo':     IDDIST                   NOMBDIST  NOMBPROV NOMBDEP  DCTO    LEY  \\\n",
      "0   120132                       SAÑO  HUANCAYO   JUNIN   LEY  12129   \n",
      "1   120111                    CHUPURO  HUANCAYO   JUNIN   LEY  13444   \n",
      "2   120136                     VIQUES  HUANCAYO   JUNIN   LEY   9475   \n",
      "3   120121                 HUAYUCACHI  HUANCAYO   JUNIN   LEY    S/N   \n",
      "4   120128                    QUILCAS  HUANCAYO   JUNIN   LEY  11846   \n",
      "5   120124                PARIAHUANCA  HUANCAYO   JUNIN   LEY    S/N   \n",
      "6   120127                   QUICHUAY  HUANCAYO   JUNIN   LEY  12447   \n",
      "7   120122                    INGENIO  HUANCAYO   JUNIN   LEY  12334   \n",
      "8   120135  SANTO DOMINGO DE ACOBAMBA  HUANCAYO   JUNIN  L.R.    342   \n",
      "9   120106                    CHICCHE  HUANCAYO   JUNIN   LEY  13745   \n",
      "10  120112                      COLCA  HUANCAYO   JUNIN   LEY    S/N   \n",
      "11  120113                   CULLHUAS  HUANCAYO   JUNIN   LEY  12103   \n",
      "12  120126                     PUCARA  HUANCAYO   JUNIN   LEY   2926   \n",
      "13  120119                    HUANCAN  HUANCAYO   JUNIN   LEY  12401   \n",
      "14  120116               HUACRAPUQUIO  HUANCAYO   JUNIN   LEY   9068   \n",
      "15  120101                   HUANCAYO  HUANCAYO   JUNIN   LEY    S/N   \n",
      "16  120130      SAN JERONIMO DE TUNAN  HUANCAYO   JUNIN  DEC.    S/N   \n",
      "17  120104             CARHUACALLANGA  HUANCAYO   JUNIN   LEY   9296   \n",
      "18  120120                HUASICANCHA  HUANCAYO   JUNIN   LEY   6849   \n",
      "19  120105                 CHACAPAMPA  HUANCAYO   JUNIN   LEY  13204   \n",
      "20  120108               CHONGOS ALTO  HUANCAYO   JUNIN   LEY    631   \n",
      "21  120107                     CHILCA  HUANCAYO   JUNIN   LEY  12829   \n",
      "22  120133                 SAPALLANGA  HUANCAYO   JUNIN   LEY    S/N   \n",
      "23  120125                  PILCOMAYO  HUANCAYO   JUNIN   LEY   9963   \n",
      "24  120134                     SICAYA  HUANCAYO   JUNIN   LEY    S/N   \n",
      "25  120129                SAN AGUSTIN  HUANCAYO   JUNIN   LEY   9067   \n",
      "26  120117                   HUALHUAS  HUANCAYO   JUNIN   LEY   9458   \n",
      "27  120114                   EL TAMBO  HUANCAYO   JUNIN   LEY   9847   \n",
      "\n",
      "         FECHA                    NOM_CAP    AREA_KM²     FEC_ACT FUENTE  \\\n",
      "0   15/10/1954                       SAÑO   12.984561  2018-01-01   INEI   \n",
      "1   14/10/1960                    CHUPURO   40.330151  2018-01-01   INEI   \n",
      "2   24/12/1941                     VIQUES    6.098330  2018-01-01   INEI   \n",
      "3   10/11/1896                 HUAYUCACHI   14.040240  2018-01-01   INEI   \n",
      "4   27/05/1952                    QUILCAS  159.533321  2018-01-01   INEI   \n",
      "5   02/01/1857            PARIAHUANCA /10  580.347852  2018-01-01   INEI   \n",
      "6   24/11/1955                   QUICHUAY   30.447018  2018-01-01   INEI   \n",
      "7   10/06/1955                    INGENIO   54.085398  2018-01-01   INEI   \n",
      "8   06/09/1920  SANTO DOMINGO DE ACOBAMBA  876.363312  2018-01-01   INEI   \n",
      "9   02/12/1961                    CHICCHE   39.203997  2018-01-01   INEI   \n",
      "10  02/01/1857                      COLCA  110.615383  2018-01-01   INEI   \n",
      "11  23/04/1954                   CULLHUAS  110.823476  2018-01-01   INEI   \n",
      "12  06/12/1918                     PUCARA  111.240083  2018-01-01   INEI   \n",
      "13  31/10/1955                    HUANCAN   12.260642  2018-01-01   INEI   \n",
      "14  20/03/1940               HUACRAPUQUIO   24.328167  2018-01-01   INEI   \n",
      "15  02/01/1857                   HUANCAYO  226.675890  2018-01-01   INEI   \n",
      "16  05/10/1854      SAN JERONIMO DE TUNAN   21.016429  2018-01-01   INEI   \n",
      "17  16/01/1941             CARHUACALLANGA   13.090538  2018-01-01   INEI   \n",
      "18  07/04/1930                HUASICANCHA   51.998654  2018-01-01   INEI   \n",
      "19  15/04/1959                 CHACAPAMPA  125.285337  2018-01-01   INEI   \n",
      "20  11/11/1907               CHONGOS ALTO  701.885535  2018-01-01   INEI   \n",
      "21  02/05/1957                     CHILCA   26.823436  2018-01-01   INEI   \n",
      "22  02/01/1857                 SAPALLANGA  123.473588  2018-01-01   INEI   \n",
      "23  15/09/1944                  PILCOMAYO    9.015657  2018-01-01   INEI   \n",
      "24  02/01/1857                     SICAYA   41.509704  2018-01-01   INEI   \n",
      "25  20/03/1940                SAN AGUSTIN   26.203442  2018-01-01   INEI   \n",
      "26  13/12/1941                   HUALHUAS   13.614591  2018-01-01   INEI   \n",
      "27  13/11/1943                   EL TAMBO  166.339290  2018-01-01   INEI   \n",
      "\n",
      "                                             geometry  \n",
      "0   MULTIPOLYGON (((-75.21192 -11.93655, -75.21263...  \n",
      "1   MULTIPOLYGON (((-75.24426 -12.15409, -75.24422...  \n",
      "2   MULTIPOLYGON (((-75.20884 -12.15655, -75.21034...  \n",
      "3   MULTIPOLYGON (((-75.19735 -12.12583, -75.19852...  \n",
      "4   MULTIPOLYGON (((-75.07349 -11.87256, -75.07393...  \n",
      "5   MULTIPOLYGON (((-74.99295 -11.81692, -74.99253...  \n",
      "6   MULTIPOLYGON (((-75.27903 -11.89206, -75.28061...  \n",
      "7   MULTIPOLYGON (((-75.16054 -11.82066, -75.16123...  \n",
      "8   MULTIPOLYGON (((-74.54900 -11.99699, -74.54930...  \n",
      "9   MULTIPOLYGON (((-75.27158 -12.26662, -75.27045...  \n",
      "10  MULTIPOLYGON (((-75.20303 -12.25150, -75.20288...  \n",
      "11  MULTIPOLYGON (((-75.10045 -12.25110, -75.10017...  \n",
      "12  MULTIPOLYGON (((-75.07131 -12.10239, -75.07095...  \n",
      "13  MULTIPOLYGON (((-75.18594 -12.10812, -75.18254...  \n",
      "14  MULTIPOLYGON (((-75.16570 -12.19041, -75.16717...  \n",
      "15  MULTIPOLYGON (((-75.05347 -11.90357, -75.05335...  \n",
      "16  MULTIPOLYGON (((-75.27921 -11.92911, -75.27752...  \n",
      "17  MULTIPOLYGON (((-75.18237 -12.36028, -75.18338...  \n",
      "18  MULTIPOLYGON (((-75.26855 -12.31911, -75.26834...  \n",
      "19  MULTIPOLYGON (((-75.21764 -12.33412, -75.21683...  \n",
      "20  MULTIPOLYGON (((-75.26855 -12.31911, -75.26998...  \n",
      "21  MULTIPOLYGON (((-75.12466 -12.04786, -75.12691...  \n",
      "22  MULTIPOLYGON (((-75.08457 -12.05622, -75.08372...  \n",
      "23  MULTIPOLYGON (((-75.24707 -12.03302, -75.24716...  \n",
      "24  MULTIPOLYGON (((-75.26666 -11.98203, -75.26585...  \n",
      "25  MULTIPOLYGON (((-75.24707 -12.03302, -75.24712...  \n",
      "26  MULTIPOLYGON (((-75.21033 -11.94566, -75.21074...  \n",
      "27  MULTIPOLYGON (((-75.06249 -11.88896, -75.06200...  }, height=500)\n",
      "  warnings.warn(\n"
     ]
    },
    {
     "data": {
      "application/vnd.jupyter.widget-view+json": {
       "model_id": "b0f00627b6b34100b52964efee715e21",
       "version_major": 2,
       "version_minor": 0
      },
      "text/plain": [
       "KeplerGl(data={'provincia-hcyo':     IDDIST                   NOMBDIST  NOMBPROV NOMBDEP  DCTO    LEY  \\\n",
       "0   1…"
      ]
     },
     "execution_count": 5,
     "metadata": {},
     "output_type": "execute_result"
    }
   ],
   "source": [
    "mapa_gpkg = KeplerGl(height=500, data={\"provincia-hcyo\": gpkg})\n",
    "mapa_gpkg"
   ]
  },
  {
   "cell_type": "code",
   "execution_count": 6,
   "metadata": {},
   "outputs": [
    {
     "data": {
      "text/html": [
       "<div>\n",
       "<style scoped>\n",
       "    .dataframe tbody tr th:only-of-type {\n",
       "        vertical-align: middle;\n",
       "    }\n",
       "\n",
       "    .dataframe tbody tr th {\n",
       "        vertical-align: top;\n",
       "    }\n",
       "\n",
       "    .dataframe thead th {\n",
       "        text-align: right;\n",
       "    }\n",
       "</style>\n",
       "<table border=\"1\" class=\"dataframe\">\n",
       "  <thead>\n",
       "    <tr style=\"text-align: right;\">\n",
       "      <th></th>\n",
       "      <th>geometry</th>\n",
       "    </tr>\n",
       "  </thead>\n",
       "  <tbody>\n",
       "    <tr>\n",
       "      <th>0</th>\n",
       "      <td>POLYGON ((-58.39067 -34.63153, -58.39078 -34.6...</td>\n",
       "    </tr>\n",
       "    <tr>\n",
       "      <th>1</th>\n",
       "      <td>POLYGON ((-58.41463 -34.59790, -58.41566 -34.5...</td>\n",
       "    </tr>\n",
       "    <tr>\n",
       "      <th>2</th>\n",
       "      <td>POLYGON ((-58.41184 -34.62921, -58.41188 -34.6...</td>\n",
       "    </tr>\n",
       "    <tr>\n",
       "      <th>3</th>\n",
       "      <td>MULTIPOLYGON (((-58.41513 -34.65894, -58.41518...</td>\n",
       "    </tr>\n",
       "    <tr>\n",
       "      <th>4</th>\n",
       "      <td>POLYGON ((-58.42724 -34.62485, -58.42746 -34.6...</td>\n",
       "    </tr>\n",
       "  </tbody>\n",
       "</table>\n",
       "</div>"
      ],
      "text/plain": [
       "                                            geometry\n",
       "0  POLYGON ((-58.39067 -34.63153, -58.39078 -34.6...\n",
       "1  POLYGON ((-58.41463 -34.59790, -58.41566 -34.5...\n",
       "2  POLYGON ((-58.41184 -34.62921, -58.41188 -34.6...\n",
       "3  MULTIPOLYGON (((-58.41513 -34.65894, -58.41518...\n",
       "4  POLYGON ((-58.42724 -34.62485, -58.42746 -34.6..."
      ]
     },
     "execution_count": 6,
     "metadata": {},
     "output_type": "execute_result"
    }
   ],
   "source": [
    "df_ba = gpd.read_file(\"df_ba.geojson\")\n",
    "df_ba.head()"
   ]
  },
  {
   "cell_type": "code",
   "execution_count": 7,
   "metadata": {},
   "outputs": [
    {
     "name": "stdout",
     "output_type": "stream",
     "text": [
      "User Guide: https://docs.kepler.gl/docs/keplergl-jupyter\n"
     ]
    },
    {
     "name": "stderr",
     "output_type": "stream",
     "text": [
      "/home/oecorrechag/.local/lib/python3.10/site-packages/IPython/core/formatters.py:370: FormatterWarning: text/html formatter returned invalid type <class 'bytes'> (expected <class 'str'>) for object: KeplerGl(data={'df_ba':                                               geometry\n",
      "0    POLYGON ((-58.39067 -34.63153, -58.39078 -34.6...\n",
      "1    POLYGON ((-58.41463 -34.59790, -58.41566 -34.5...\n",
      "2    POLYGON ((-58.41184 -34.62921, -58.41188 -34.6...\n",
      "3    MULTIPOLYGON (((-58.41513 -34.65894, -58.41518...\n",
      "4    POLYGON ((-58.42724 -34.62485, -58.42746 -34.6...\n",
      "..                                                 ...\n",
      "103  POLYGON ((-58.51695 -34.62022, -58.52070 -34.6...\n",
      "104  POLYGON ((-58.47580 -34.68214, -58.47573 -34.6...\n",
      "105  POLYGON ((-58.48040 -34.60812, -58.47967 -34.6...\n",
      "106  POLYGON ((-58.45298 -34.65098, -58.45203 -34.6...\n",
      "107  POLYGON ((-58.47511 -34.56621, -58.47461 -34.5...\n",
      "\n",
      "[108 rows x 1 columns]}, height=500)\n",
      "  warnings.warn(\n"
     ]
    },
    {
     "data": {
      "application/vnd.jupyter.widget-view+json": {
       "model_id": "62052e5996194c21a4fa43dc723a072f",
       "version_major": 2,
       "version_minor": 0
      },
      "text/plain": [
       "KeplerGl(data={'df_ba':                                               geometry\n",
       "0    POLYGON ((-58.39067 -34.63…"
      ]
     },
     "execution_count": 7,
     "metadata": {},
     "output_type": "execute_result"
    }
   ],
   "source": [
    "mapa_buenos_aires = KeplerGl(height=500, data={\"df_ba\": df_ba})\n",
    "mapa_buenos_aires"
   ]
  },
  {
   "cell_type": "code",
   "execution_count": 8,
   "metadata": {},
   "outputs": [],
   "source": [
    "config_mapa_csv = mapa_csv.config\n",
    "config_mapa_gpkg = mapa_gpkg.config\n",
    "config_mapa_buenos_aires = mapa_buenos_aires.config"
   ]
  },
  {
   "cell_type": "code",
   "execution_count": 9,
   "metadata": {},
   "outputs": [
    {
     "name": "stdout",
     "output_type": "stream",
     "text": [
      "Map saved to outputs/mapa_csv.html!\n",
      "Map saved to outputs/mapa_gpkg.html!\n",
      "Map saved to outputs/mapa_buenos_aires.html!\n"
     ]
    }
   ],
   "source": [
    "mapa_csv.save_to_html(data={'nevada': nevada_data}, config=config_mapa_csv, file_name='outputs/mapa_csv.html')\n",
    "mapa_gpkg.save_to_html(data={'provincia-hcyo': gpkg}, config=config_mapa_gpkg, file_name='outputs/mapa_gpkg.html')\n",
    "mapa_buenos_aires.save_to_html(data={'df_ba': df_ba}, config=config_mapa_buenos_aires, file_name='outputs/mapa_buenos_aires.html')"
   ]
  }
 ],
 "metadata": {
  "kernelspec": {
   "display_name": "Python 3",
   "language": "python",
   "name": "python3"
  },
  "language_info": {
   "codemirror_mode": {
    "name": "ipython",
    "version": 3
   },
   "file_extension": ".py",
   "mimetype": "text/x-python",
   "name": "python",
   "nbconvert_exporter": "python",
   "pygments_lexer": "ipython3",
   "version": "3.11.0"
  }
 },
 "nbformat": 4,
 "nbformat_minor": 2
}
